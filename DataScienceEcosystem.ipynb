{
 "cells": [
  {
   "cell_type": "markdown",
   "id": "ae6e93b7-2758-4181-b1ce-d6c3c5fd6d5a",
   "metadata": {},
   "source": [
    "# Data Science Tools and Ecosystem"
   ]
  },
  {
   "cell_type": "markdown",
   "id": "1144ab3f-ec6e-4b20-94df-ed5eb599ca1e",
   "metadata": {},
   "source": [
    "In this notebook, Data Science Tools and Ecosystem are summarized."
   ]
  },
  {
   "cell_type": "markdown",
   "id": "e7be14f0-efe0-494a-b238-954b6403ec10",
   "metadata": {},
   "source": [
    "**Objectives:**\n",
    "List popular languages for Data Science\n",
    "\n",
    "Python\n",
    "\n",
    "R\n",
    "\n",
    "SQL\n",
    "\n",
    "Java\n",
    "\n",
    "Julia"
   ]
  },
  {
   "cell_type": "markdown",
   "id": "fae62c95-6dae-4b50-bcd7-1bfb6418d1b0",
   "metadata": {},
   "source": [
    "Some of the popular languages that Data Scientists use are:\n",
    "\n",
    "1.Sql \n",
    "\n",
    "2.R\n",
    "\n",
    "3.python\n"
   ]
  },
  {
   "cell_type": "markdown",
   "id": "6851ea3a-0c6b-482f-8cb6-a7823801b005",
   "metadata": {},
   "source": [
    "Some of the commonly used libraries used by Data Scientists include:\n",
    "\n",
    "1.Pandas\n",
    "\n",
    "2.NumPy\n",
    "\n",
    "3.Matplotlib\n",
    "\n",
    "4.Seaborn\n",
    "\n",
    "\n"
   ]
  },
  {
   "attachments": {
    "9eaa91c5-6769-45c9-b913-d4982817879e.png": {
     "image/png": "[encoded data removed]"
    }
   },
   "cell_type": "markdown",
   "id": "8d2a2055-9c8d-4216-aefa-8b11f3257644",
   "metadata": {},
   "source": [
    "Data Science Tools\n",
    "\n",
    "\n",
    "![image.png](attachment:9eaa91c5-6769-45c9-b913-d4982817879e.png)"
   ]
  },
  {
   "cell_type": "markdown",
   "id": "aec8cdfd-5d80-49d0-9b22-a28d233f2f93",
   "metadata": {},
   "source": [
    " ### Below are a few examples of evaluating arithmetic expressions in Python\n",
    "### 1+1\n",
    "### 2*2\n",
    "### 5-3\n",
    "### 10/2"
   ]
  },
  {
   "cell_type": "code",
   "execution_count": 3,
   "id": "e7694468-b03f-474b-96f9-00c877ae970c",
   "metadata": {},
   "outputs": [
    {
     "data": {
      "text/plain": [
       "17"
      ]
     },
     "execution_count": 3,
     "metadata": {},
     "output_type": "execute_result"
    }
   ],
   "source": [
    "\"This a simple arithmetic expression to mutiply then add integers\"\n",
    "(4*3)+5"
   ]
  },
  {
   "cell_type": "code",
   "execution_count": 11,
   "id": "3acd85e1-9443-48f9-b3ca-02843f50d4e3",
   "metadata": {},
   "outputs": [
    {
     "name": "stdout",
     "output_type": "stream",
     "text": [
      "3:20\n"
     ]
    }
   ],
   "source": [
    "\"This will convert 200 minutes to hours by diving by 60\"\n",
    "total_minutes = 200\n",
    "hours = total_minutes // 60\n",
    "minutes = total_minutes % 60\n",
    "print(time)"
   ]
  },
  {
   "cell_type": "markdown",
   "id": "77f2d81c-41f4-4611-9c21-36bec001c1fa",
   "metadata": {},
   "source": [
    "## Author\n",
    "Pranil Waghmare"
   ]
  },
  {
   "cell_type": "code",
   "execution_count": null,
   "id": "b9dce980-5f58-4f7b-b41e-314296e9c328",
   "metadata": {},
   "outputs": [],
   "source": []
  }
 ],
 "metadata": {
  "kernelspec": {
   "display_name": "Python",
   "language": "python",
   "name": "conda-env-python-py"
  },
  "language_info": {
   "codemirror_mode": {
    "name": "ipython",
    "version": 3
   },
   "file_extension": ".py",
   "mimetype": "text/x-python",
   "name": "python",
   "nbconvert_exporter": "python",
   "pygments_lexer": "ipython3",
   "version": "3.7.12"
  }
 },
 "nbformat": 4,
 "nbformat_minor": 5
}
